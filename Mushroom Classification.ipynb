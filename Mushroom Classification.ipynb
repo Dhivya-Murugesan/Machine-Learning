{
    "nbformat_minor": 2, 
    "cells": [
        {
            "source": "#  Classification - Multiclass Logistic Regression Project\n## Dhivya Murugesan\n\n## Classifying Mushrooms as Edible or Poisonous", 
            "cell_type": "markdown", 
            "metadata": {
                "slideshow": {
                    "slide_type": "slide"
                }
            }
        }, 
        {
            "source": "## Logical Regression\n- Logistic regression is estimating the parameters of a logistic model; it is a form of binomial regression. Mathematically, a binary logistic model has a dependent variable with two possible values, such as pass/fail, win/lose, alive/dead or healthy/sick; these are represented by an indicator variable, where the two values are labeled \"0\" and \"1\". When there are more than two values for the target variable then it is Multiclass Logistic Regression.", 
            "cell_type": "markdown", 
            "metadata": {
                "slideshow": {
                    "slide_type": "slide"
                }
            }
        }, 
        {
            "source": "## Dataset: Mushroom Dataset\n### Number of Instances: 8124\n### Number of Attributes: 23 (All Nominal Values)", 
            "cell_type": "markdown", 
            "metadata": {
                "slideshow": {
                    "slide_type": "slide"
                }
            }
        }, 
        {
            "source": "### Attribute Information: (Target: edible=e, poisonous=p, other=o)\n     1. cap-shape:                bell=b,conical=c,convex=x,flat=f,\n                                  knobbed=k,sunken=s\n     2. cap-surface:              fibrous=f,grooves=g,scaly=y,smooth=s\n     3. cap-color:                brown=n,buff=b,cinnamon=c,gray=g,green=r,\n                                  pink=p,purple=u,red=e,white=w,yellow=y\n     4. bruises?:                 bruises=t,no=f\n     5. odor:                     almond=a,anise=l,creosote=c,fishy=y,foul=f,\n                                  musty=m,none=n,pungent=p,spicy=s\n     6. gill-attachment:          attached=a,descending=d,free=f,notched=n\n     7. gill-spacing:             close=c,crowded=w,distant=d\n     8. gill-size:                broad=b,narrow=n\n     9. gill-color:               black=k,brown=n,buff=b,chocolate=h,gray=g,\n                                  green=r,orange=o,pink=p,purple=u,red=e,\n                                  white=w,yellow=y\n    10. stalk-shape:              enlarging=e,tapering=t\n    11. stalk-root:               bulbous=b,club=c,cup=u,equal=e,\n                                  rhizomorphs=z,rooted=r,missing=?\n    12. stalk-surface-above-ring: fibrous=f,scaly=y,silky=k,smooth=s\n    13. stalk-surface-below-ring: fibrous=f,scaly=y,silky=k,smooth=s\n    14. stalk-color-above-ring:   brown=n,buff=b,cinnamon=c,gray=g,orange=o,\n                                  pink=p,red=e,white=w,yellow=y\n    15. stalk-color-below-ring:   brown=n,buff=b,cinnamon=c,gray=g,orange=o,\n                                  pink=p,red=e,white=w,yellow=y\n    16. veil-type:                partial=p,universal=u\n    17. veil-color:               brown=n,orange=o,white=w,yellow=y\n    18. ring-number:              none=n,one=o,two=t\n    19. ring-type:                cobwebby=c,evanescent=e,flaring=f,large=l,\n                                  none=n,pendant=p,sheathing=s,zone=z\n    20. spore-print-color:        black=k,brown=n,buff=b,chocolate=h,green=r,\n                                  orange=o,purple=u,white=w,yellow=y\n    21. population:               abundant=a,clustered=c,numerous=n,\n                                  scattered=s,several=v,solitary=y\n    22. habitat:                  grasses=g,leaves=l,meadows=m,paths=p,\n                                  urban=u,waste=w,woods=d\n\n", 
            "cell_type": "markdown", 
            "metadata": {
                "slideshow": {
                    "slide_type": "subslide"
                }
            }
        }, 
        {
            "execution_count": 1, 
            "cell_type": "code", 
            "metadata": {
                "slideshow": {
                    "slide_type": "notes"
                }
            }, 
            "outputs": [
                {
                    "output_type": "stream", 
                    "name": "stdout", 
                    "text": "Matplotlib version:  2.1.0\n"
                }, 
                {
                    "execution_count": 1, 
                    "metadata": {}, 
                    "data": {
                        "text/html": "<div>\n<style scoped>\n    .dataframe tbody tr th:only-of-type {\n        vertical-align: middle;\n    }\n\n    .dataframe tbody tr th {\n        vertical-align: top;\n    }\n\n    .dataframe thead th {\n        text-align: right;\n    }\n</style>\n<table border=\"1\" class=\"dataframe\">\n  <thead>\n    <tr style=\"text-align: right;\">\n      <th></th>\n      <th>p</th>\n      <th>x</th>\n      <th>s</th>\n      <th>n</th>\n      <th>t</th>\n      <th>p.1</th>\n      <th>f</th>\n      <th>c</th>\n      <th>n.1</th>\n      <th>k</th>\n      <th>...</th>\n      <th>s.2</th>\n      <th>w</th>\n      <th>w.1</th>\n      <th>p.2</th>\n      <th>w.2</th>\n      <th>o</th>\n      <th>p.3</th>\n      <th>k.1</th>\n      <th>s.3</th>\n      <th>u</th>\n    </tr>\n  </thead>\n  <tbody>\n    <tr>\n      <th>0</th>\n      <td>e</td>\n      <td>x</td>\n      <td>s</td>\n      <td>y</td>\n      <td>t</td>\n      <td>a</td>\n      <td>f</td>\n      <td>c</td>\n      <td>b</td>\n      <td>k</td>\n      <td>...</td>\n      <td>s</td>\n      <td>w</td>\n      <td>w</td>\n      <td>p</td>\n      <td>w</td>\n      <td>o</td>\n      <td>p</td>\n      <td>n</td>\n      <td>n</td>\n      <td>g</td>\n    </tr>\n    <tr>\n      <th>1</th>\n      <td>e</td>\n      <td>b</td>\n      <td>s</td>\n      <td>w</td>\n      <td>t</td>\n      <td>l</td>\n      <td>f</td>\n      <td>c</td>\n      <td>b</td>\n      <td>n</td>\n      <td>...</td>\n      <td>s</td>\n      <td>w</td>\n      <td>w</td>\n      <td>p</td>\n      <td>w</td>\n      <td>o</td>\n      <td>p</td>\n      <td>n</td>\n      <td>n</td>\n      <td>m</td>\n    </tr>\n    <tr>\n      <th>2</th>\n      <td>p</td>\n      <td>x</td>\n      <td>y</td>\n      <td>w</td>\n      <td>t</td>\n      <td>p</td>\n      <td>f</td>\n      <td>c</td>\n      <td>n</td>\n      <td>n</td>\n      <td>...</td>\n      <td>s</td>\n      <td>w</td>\n      <td>w</td>\n      <td>p</td>\n      <td>w</td>\n      <td>o</td>\n      <td>p</td>\n      <td>k</td>\n      <td>s</td>\n      <td>u</td>\n    </tr>\n    <tr>\n      <th>3</th>\n      <td>e</td>\n      <td>x</td>\n      <td>s</td>\n      <td>g</td>\n      <td>f</td>\n      <td>n</td>\n      <td>f</td>\n      <td>w</td>\n      <td>b</td>\n      <td>k</td>\n      <td>...</td>\n      <td>s</td>\n      <td>w</td>\n      <td>w</td>\n      <td>p</td>\n      <td>w</td>\n      <td>o</td>\n      <td>e</td>\n      <td>n</td>\n      <td>a</td>\n      <td>g</td>\n    </tr>\n    <tr>\n      <th>4</th>\n      <td>e</td>\n      <td>x</td>\n      <td>y</td>\n      <td>y</td>\n      <td>t</td>\n      <td>a</td>\n      <td>f</td>\n      <td>c</td>\n      <td>b</td>\n      <td>n</td>\n      <td>...</td>\n      <td>s</td>\n      <td>w</td>\n      <td>w</td>\n      <td>p</td>\n      <td>w</td>\n      <td>o</td>\n      <td>p</td>\n      <td>k</td>\n      <td>n</td>\n      <td>g</td>\n    </tr>\n  </tbody>\n</table>\n<p>5 rows \u00d7 23 columns</p>\n</div>", 
                        "text/plain": "   p  x  s  n  t p.1  f  c n.1  k ... s.2  w w.1 p.2 w.2  o p.3 k.1 s.3  u\n0  e  x  s  y  t   a  f  c   b  k ...   s  w   w   p   w  o   p   n   n  g\n1  e  b  s  w  t   l  f  c   b  n ...   s  w   w   p   w  o   p   n   n  m\n2  p  x  y  w  t   p  f  c   n  n ...   s  w   w   p   w  o   p   k   s  u\n3  e  x  s  g  f   n  f  w   b  k ...   s  w   w   p   w  o   e   n   a  g\n4  e  x  y  y  t   a  f  c   b  n ...   s  w   w   p   w  o   p   k   n  g\n\n[5 rows x 23 columns]"
                    }, 
                    "output_type": "execute_result"
                }
            ], 
            "source": "# The code was removed by Watson Studio for sharing."
        }, 
        {
            "execution_count": 2, 
            "cell_type": "code", 
            "metadata": {
                "slideshow": {
                    "slide_type": "slide"
                }
            }, 
            "outputs": [
                {
                    "output_type": "stream", 
                    "name": "stdout", 
                    "text": "      p  x  s  n  t p.1  f  c n.1  k ... s.2  w w.1 p.2 w.2  o p.3 k.1 s.3  u\n0     e  x  s  y  t   a  f  c   b  k ...   s  w   w   p   w  o   p   n   n  g\n1     e  b  s  w  t   l  f  c   b  n ...   s  w   w   p   w  o   p   n   n  m\n2     p  x  y  w  t   p  f  c   n  n ...   s  w   w   p   w  o   p   k   s  u\n3     e  x  s  g  f   n  f  w   b  k ...   s  w   w   p   w  o   e   n   a  g\n4     e  x  y  y  t   a  f  c   b  n ...   s  w   w   p   w  o   p   k   n  g\n5     e  b  s  w  t   a  f  c   b  g ...   s  w   w   p   w  o   p   k   n  m\n6     e  b  y  w  t   l  f  c   b  n ...   s  w   w   p   w  o   p   n   s  m\n7     o  x  y  w  t   p  f  c   n  p ...   s  w   w   p   w  o   p   k   v  g\n8     e  b  s  y  t   a  f  c   b  g ...   s  w   w   p   w  o   p   k   s  m\n9     e  x  y  y  t   l  f  c   b  g ...   s  w   w   p   w  o   p   n   n  g\n10    o  x  y  y  t   a  f  c   b  n ...   s  w   w   p   w  o   p   k   s  m\n11    e  b  s  y  t   a  f  c   b  w ...   s  w   w   p   w  o   p   n   s  g\n12    p  x  y  w  t   p  f  c   n  k ...   s  w   w   p   w  o   p   n   v  u\n13    e  x  f  n  f   n  f  w   b  n ...   f  w   w   p   w  o   e   k   a  g\n14    e  s  f  g  f   n  f  c   n  k ...   s  w   w   p   w  o   p   n   y  u\n15    e  f  f  w  f   n  f  w   b  k ...   s  w   w   p   w  o   e   n   a  g\n16    p  x  s  n  t   p  f  c   n  n ...   s  w   w   p   w  o   p   k   s  g\n17    p  x  y  w  t   p  f  c   n  n ...   s  w   w   p   w  o   p   n   s  u\n18    p  x  s  n  t   p  f  c   n  k ...   s  w   w   p   w  o   p   n   s  u\n19    e  b  s  y  t   a  f  c   b  k ...   s  w   w   p   w  o   p   n   s  m\n20    o  x  y  n  t   p  f  c   n  n ...   s  w   w   p   w  o   p   n   v  g\n21    e  b  y  y  t   l  f  c   b  k ...   s  w   w   p   w  o   p   n   s  m\n22    e  b  y  w  t   a  f  c   b  w ...   s  w   w   p   w  o   p   n   n  m\n23    e  b  s  w  t   l  f  c   b  g ...   s  w   w   p   w  o   p   k   s  m\n24    p  f  s  w  t   p  f  c   n  n ...   s  w   w   p   w  o   p   n   v  g\n25    e  x  y  y  t   a  f  c   b  n ...   s  w   w   p   w  o   p   n   n  m\n26    e  x  y  w  t   l  f  c   b  w ...   s  w   w   p   w  o   p   n   n  m\n27    o  f  f  n  f   n  f  c   n  k ...   s  w   w   p   w  o   p   k   y  u\n28    e  x  s  y  t   a  f  w   n  n ...   s  w   w   p   w  o   p   n   v  d\n29    e  b  s  y  t   l  f  c   b  g ...   s  w   w   p   w  o   p   n   n  m\n...  .. .. .. .. ..  .. .. ..  .. .. ...  .. ..  ..  ..  .. ..  ..  ..  .. ..\n8093  e  b  s  g  f   n  f  w   b  g ...   s  w   w   p   w  t   p   w   n  g\n8094  p  x  y  c  f   m  f  c   b  y ...   y  c   c   p   w  n   n   w   c  d\n8095  e  k  f  w  f   n  f  w   b  w ...   s  w   w   p   w  t   p   w   n  g\n8096  p  k  y  n  f   s  f  c   n  b ...   k  p   p   p   w  o   e   w   v  l\n8097  p  k  s  e  f   y  f  c   n  b ...   k  w   p   p   w  o   e   w   v  d\n8098  e  k  f  w  f   n  f  w   b  w ...   k  w   w   p   w  t   p   w   s  g\n8099  e  f  s  n  f   n  a  c   b  o ...   s  o   o   p   n  o   p   b   v  l\n8100  p  k  s  e  f   s  f  c   n  b ...   s  p   w   p   w  o   e   w   v  p\n8101  e  x  s  n  f   n  a  c   b  y ...   s  o   o   p   n  o   p   n   c  l\n8102  e  k  s  n  f   n  a  c   b  y ...   s  o   o   p   n  o   p   o   c  l\n8103  e  k  s  n  f   n  a  c   b  y ...   s  o   o   p   o  o   p   n   v  l\n8104  e  k  s  n  f   n  a  c   b  y ...   s  o   o   p   n  o   p   y   v  l\n8105  e  k  s  n  f   n  a  c   b  o ...   s  o   o   p   o  o   p   n   v  l\n8106  e  x  s  n  f   n  a  c   b  y ...   s  o   o   p   o  o   p   n   c  l\n8107  p  k  y  e  f   y  f  c   n  b ...   s  p   w   p   w  o   e   w   v  l\n8108  e  b  s  w  f   n  f  w   b  w ...   s  w   w   p   w  t   p   w   n  g\n8109  e  x  s  n  f   n  a  c   b  o ...   s  o   o   p   o  o   p   n   v  l\n8110  e  k  s  w  f   n  f  w   b  p ...   s  w   w   p   w  t   p   w   n  g\n8111  e  k  s  n  f   n  a  c   b  o ...   s  o   o   p   n  o   p   b   v  l\n8112  p  k  y  e  f   y  f  c   n  b ...   k  p   p   p   w  o   e   w   v  d\n8113  p  f  y  c  f   m  a  c   b  y ...   y  c   c   p   w  n   n   w   c  d\n8114  e  x  s  n  f   n  a  c   b  y ...   s  o   o   p   o  o   p   o   v  l\n8115  p  k  y  n  f   s  f  c   n  b ...   k  p   w   p   w  o   e   w   v  l\n8116  p  k  s  e  f   y  f  c   n  b ...   s  p   w   p   w  o   e   w   v  d\n8117  p  k  y  n  f   f  f  c   n  b ...   s  p   w   p   w  o   e   w   v  d\n8118  e  k  s  n  f   n  a  c   b  y ...   s  o   o   p   o  o   p   b   c  l\n8119  e  x  s  n  f   n  a  c   b  y ...   s  o   o   p   n  o   p   b   v  l\n8120  e  f  s  n  f   n  a  c   b  n ...   s  o   o   p   o  o   p   b   c  l\n8121  p  k  y  n  f   y  f  c   n  b ...   k  w   w   p   w  o   e   w   v  l\n8122  e  x  s  n  f   n  a  c   b  y ...   s  o   o   p   o  o   p   o   c  l\n\n[8123 rows x 23 columns]\n           p     x     s     n     t   p.1     f     c   n.1     k  ...   \\\ncount   8123  8123  8123  8123  8123  8123  8123  8123  8123  8123  ...    \nunique     3     6     4    10     2     9     2     2     2    12  ...    \ntop        e     x     y     n     f     n     f     c     b     b  ...    \nfreq    4158  3655  3244  2283  4748  3528  7913  6811  5612  1728  ...    \n\n         s.2     w   w.1   p.2   w.2     o   p.3   k.1   s.3     u  \ncount   8123  8123  8123  8123  8123  8123  8123  8123  8123  8123  \nunique     4     9     9     1     4     3     5     9     6     7  \ntop        s     w     w     p     w     o     p     w     v     d  \nfreq    4935  4463  4383  8123  7923  7487  3967  2388  4040  3148  \n\n[4 rows x 23 columns]\n"
                }
            ], 
            "source": "#Analysing the description\ndescription=dataset.describe()\nprint(dataset)\nprint(description)\n"
        }, 
        {
            "execution_count": 3, 
            "cell_type": "code", 
            "metadata": {
                "scrolled": true, 
                "slideshow": {
                    "slide_type": "slide"
                }
            }, 
            "outputs": [
                {
                    "execution_count": 3, 
                    "metadata": {}, 
                    "data": {
                        "text/plain": "e    4158\np    3845\no     120\nName: p, dtype: int64"
                    }, 
                    "output_type": "execute_result"
                }
            ], 
            "source": "# Checking the value counts of my target column in original dataset\ndataset['p'].value_counts()"
        }, 
        {
            "source": "# Visualization", 
            "cell_type": "markdown", 
            "metadata": {}
        }, 
        {
            "source": "Lets create waffle charts to visualize the number of mushrooms in each category (Edible, Poison, Unknown)", 
            "cell_type": "markdown", 
            "metadata": {}
        }, 
        {
            "execution_count": 4, 
            "cell_type": "code", 
            "metadata": {}, 
            "outputs": [
                {
                    "execution_count": 4, 
                    "metadata": {}, 
                    "data": {
                        "text/html": "<div>\n<style scoped>\n    .dataframe tbody tr th:only-of-type {\n        vertical-align: middle;\n    }\n\n    .dataframe tbody tr th {\n        vertical-align: top;\n    }\n\n    .dataframe thead th {\n        text-align: right;\n    }\n</style>\n<table border=\"1\" class=\"dataframe\">\n  <thead>\n    <tr style=\"text-align: right;\">\n      <th></th>\n      <th>p</th>\n    </tr>\n  </thead>\n  <tbody>\n    <tr>\n      <th>e</th>\n      <td>4158</td>\n    </tr>\n    <tr>\n      <th>p</th>\n      <td>3845</td>\n    </tr>\n    <tr>\n      <th>o</th>\n      <td>120</td>\n    </tr>\n  </tbody>\n</table>\n</div>", 
                        "text/plain": "      p\ne  4158\np  3845\no   120"
                    }, 
                    "output_type": "execute_result"
                }
            ], 
            "source": "df_dsn=pd.DataFrame(dataset['p'].value_counts())#, columns=['category','total'])\ndf_dsn"
        }, 
        {
            "execution_count": 5, 
            "cell_type": "code", 
            "metadata": {}, 
            "outputs": [
                {
                    "execution_count": 5, 
                    "metadata": {}, 
                    "data": {
                        "text/plain": "Index(['p'], dtype='object')"
                    }, 
                    "output_type": "execute_result"
                }
            ], 
            "source": "df_dsn.columns"
        }, 
        {
            "execution_count": 6, 
            "cell_type": "code", 
            "metadata": {}, 
            "outputs": [
                {
                    "execution_count": 6, 
                    "metadata": {}, 
                    "data": {
                        "text/html": "<div>\n<style scoped>\n    .dataframe tbody tr th:only-of-type {\n        vertical-align: middle;\n    }\n\n    .dataframe tbody tr th {\n        vertical-align: top;\n    }\n\n    .dataframe thead th {\n        text-align: right;\n    }\n</style>\n<table border=\"1\" class=\"dataframe\">\n  <thead>\n    <tr style=\"text-align: right;\">\n      <th></th>\n      <th>Total</th>\n    </tr>\n  </thead>\n  <tbody>\n    <tr>\n      <th>e</th>\n      <td>4158</td>\n    </tr>\n    <tr>\n      <th>p</th>\n      <td>3845</td>\n    </tr>\n    <tr>\n      <th>o</th>\n      <td>120</td>\n    </tr>\n  </tbody>\n</table>\n</div>", 
                        "text/plain": "   Total\ne   4158\np   3845\no    120"
                    }, 
                    "output_type": "execute_result"
                }
            ], 
            "source": "df_dsn.rename(columns = {'p':'Total'}, inplace = True)\ndf_dsn"
        }, 
        {
            "execution_count": 7, 
            "cell_type": "code", 
            "metadata": {}, 
            "outputs": [
                {
                    "execution_count": 7, 
                    "metadata": {}, 
                    "data": {
                        "text/plain": "8123"
                    }, 
                    "output_type": "execute_result"
                }
            ], 
            "source": "\ncount=df_dsn['Total'].sum()\ncount"
        }, 
        {
            "execution_count": 8, 
            "cell_type": "code", 
            "metadata": {}, 
            "outputs": [
                {
                    "execution_count": 8, 
                    "metadata": {}, 
                    "data": {
                        "text/html": "<div>\n<style scoped>\n    .dataframe tbody tr th:only-of-type {\n        vertical-align: middle;\n    }\n\n    .dataframe tbody tr th {\n        vertical-align: top;\n    }\n\n    .dataframe thead th {\n        text-align: right;\n    }\n</style>\n<table border=\"1\" class=\"dataframe\">\n  <thead>\n    <tr style=\"text-align: right;\">\n      <th></th>\n      <th>Total</th>\n    </tr>\n  </thead>\n  <tbody>\n    <tr>\n      <th>e</th>\n      <td>4158</td>\n    </tr>\n    <tr>\n      <th>p</th>\n      <td>3845</td>\n    </tr>\n    <tr>\n      <th>o</th>\n      <td>120</td>\n    </tr>\n  </tbody>\n</table>\n</div>", 
                        "text/plain": "   Total\ne   4158\np   3845\no    120"
                    }, 
                    "output_type": "execute_result"
                }
            ], 
            "source": "df_dsn"
        }, 
        {
            "execution_count": 9, 
            "cell_type": "code", 
            "metadata": {}, 
            "outputs": [], 
            "source": "category_proportions = [(float(value) / count) for value in df_dsn['Total']]"
        }, 
        {
            "execution_count": 10, 
            "cell_type": "code", 
            "metadata": {}, 
            "outputs": [
                {
                    "execution_count": 10, 
                    "metadata": {}, 
                    "data": {
                        "text/plain": "[0.51187984734703929, 0.47334728548565802, 0.014772867167302721]"
                    }, 
                    "output_type": "execute_result"
                }
            ], 
            "source": "category_proportions"
        }, 
        {
            "source": "Importing these proportion values into waffle chart", 
            "cell_type": "markdown", 
            "metadata": {}
        }, 
        {
            "execution_count": 11, 
            "cell_type": "code", 
            "metadata": {}, 
            "outputs": [
                {
                    "execution_count": 11, 
                    "metadata": {}, 
                    "data": {
                        "text/plain": "400"
                    }, 
                    "output_type": "execute_result"
                }
            ], 
            "source": "# Size of the waffle Chart\nwidth= 40\nheight = 10\n\nTotal_Tiles=width*height\nTotal_Tiles"
        }, 
        {
            "source": "Determining the number of tiles for each category", 
            "cell_type": "markdown", 
            "metadata": {}
        }, 
        {
            "execution_count": 12, 
            "cell_type": "code", 
            "metadata": {}, 
            "outputs": [
                {
                    "execution_count": 12, 
                    "metadata": {}, 
                    "data": {
                        "text/plain": "[205.0, 189.0, 6.0]"
                    }, 
                    "output_type": "execute_result"
                }
            ], 
            "source": "tiles_per_category=[round(proportion*Total_Tiles) for proportion in category_proportions]\ntiles_per_category"
        }, 
        {
            "execution_count": 13, 
            "cell_type": "code", 
            "metadata": {}, 
            "outputs": [
                {
                    "execution_count": 13, 
                    "metadata": {}, 
                    "data": {
                        "text/plain": "array([[ 0.,  0.,  0.,  0.,  0.,  0.,  0.,  0.,  0.,  0.,  0.,  0.,  0.,\n         0.,  0.,  0.,  0.,  0.,  0.,  0.,  0.,  0.,  0.,  0.,  0.,  0.,\n         0.,  0.,  0.,  0.,  0.,  0.,  0.,  0.,  0.,  0.,  0.,  0.,  0.,\n         0.],\n       [ 0.,  0.,  0.,  0.,  0.,  0.,  0.,  0.,  0.,  0.,  0.,  0.,  0.,\n         0.,  0.,  0.,  0.,  0.,  0.,  0.,  0.,  0.,  0.,  0.,  0.,  0.,\n         0.,  0.,  0.,  0.,  0.,  0.,  0.,  0.,  0.,  0.,  0.,  0.,  0.,\n         0.],\n       [ 0.,  0.,  0.,  0.,  0.,  0.,  0.,  0.,  0.,  0.,  0.,  0.,  0.,\n         0.,  0.,  0.,  0.,  0.,  0.,  0.,  0.,  0.,  0.,  0.,  0.,  0.,\n         0.,  0.,  0.,  0.,  0.,  0.,  0.,  0.,  0.,  0.,  0.,  0.,  0.,\n         0.],\n       [ 0.,  0.,  0.,  0.,  0.,  0.,  0.,  0.,  0.,  0.,  0.,  0.,  0.,\n         0.,  0.,  0.,  0.,  0.,  0.,  0.,  0.,  0.,  0.,  0.,  0.,  0.,\n         0.,  0.,  0.,  0.,  0.,  0.,  0.,  0.,  0.,  0.,  0.,  0.,  0.,\n         0.],\n       [ 0.,  0.,  0.,  0.,  0.,  0.,  0.,  0.,  0.,  0.,  0.,  0.,  0.,\n         0.,  0.,  0.,  0.,  0.,  0.,  0.,  0.,  0.,  0.,  0.,  0.,  0.,\n         0.,  0.,  0.,  0.,  0.,  0.,  0.,  0.,  0.,  0.,  0.,  0.,  0.,\n         0.],\n       [ 0.,  0.,  0.,  0.,  0.,  0.,  0.,  0.,  0.,  0.,  0.,  0.,  0.,\n         0.,  0.,  0.,  0.,  0.,  0.,  0.,  0.,  0.,  0.,  0.,  0.,  0.,\n         0.,  0.,  0.,  0.,  0.,  0.,  0.,  0.,  0.,  0.,  0.,  0.,  0.,\n         0.],\n       [ 0.,  0.,  0.,  0.,  0.,  0.,  0.,  0.,  0.,  0.,  0.,  0.,  0.,\n         0.,  0.,  0.,  0.,  0.,  0.,  0.,  0.,  0.,  0.,  0.,  0.,  0.,\n         0.,  0.,  0.,  0.,  0.,  0.,  0.,  0.,  0.,  0.,  0.,  0.,  0.,\n         0.],\n       [ 0.,  0.,  0.,  0.,  0.,  0.,  0.,  0.,  0.,  0.,  0.,  0.,  0.,\n         0.,  0.,  0.,  0.,  0.,  0.,  0.,  0.,  0.,  0.,  0.,  0.,  0.,\n         0.,  0.,  0.,  0.,  0.,  0.,  0.,  0.,  0.,  0.,  0.,  0.,  0.,\n         0.],\n       [ 0.,  0.,  0.,  0.,  0.,  0.,  0.,  0.,  0.,  0.,  0.,  0.,  0.,\n         0.,  0.,  0.,  0.,  0.,  0.,  0.,  0.,  0.,  0.,  0.,  0.,  0.,\n         0.,  0.,  0.,  0.,  0.,  0.,  0.,  0.,  0.,  0.,  0.,  0.,  0.,\n         0.],\n       [ 0.,  0.,  0.,  0.,  0.,  0.,  0.,  0.,  0.,  0.,  0.,  0.,  0.,\n         0.,  0.,  0.,  0.,  0.,  0.,  0.,  0.,  0.,  0.,  0.,  0.,  0.,\n         0.,  0.,  0.,  0.,  0.,  0.,  0.,  0.,  0.,  0.,  0.,  0.,  0.,\n         0.]])"
                    }, 
                    "output_type": "execute_result"
                }
            ], 
            "source": "#Initialize the waffle chart as an empty matrix\nwaffle_chart=np.zeros((height,width))\nwaffle_chart"
        }, 
        {
            "execution_count": 14, 
            "cell_type": "code", 
            "metadata": {}, 
            "outputs": [], 
            "source": "#Define indices to loop through waffle chart\n\ncategory_index=0\ntile_index=0"
        }, 
        {
            "execution_count": 15, 
            "cell_type": "code", 
            "metadata": {}, 
            "outputs": [
                {
                    "output_type": "stream", 
                    "name": "stdout", 
                    "text": "Waffle chart populated!\n"
                }
            ], 
            "source": "#Populate the waffle chart\n\nfor col in range(width):\n    for row in range(height):\n        tile_index=tile_index+1\n        \n        # if the number of tiles populated for the current category is equal to its corresponding allocated tiles\n        if tile_index>sum(tiles_per_category[0:category_index]): # if this is true we will move to next category\n            category_index=category_index+1\n        # set the class value to an integer, which increases with class\n        waffle_chart[row, col] = category_index\n        \nprint ('Waffle chart populated!')"
        }, 
        {
            "execution_count": 16, 
            "cell_type": "code", 
            "metadata": {}, 
            "outputs": [
                {
                    "execution_count": 16, 
                    "metadata": {}, 
                    "data": {
                        "text/plain": "array([[ 1.,  1.,  1.,  1.,  1.,  1.,  1.,  1.,  1.,  1.,  1.,  1.,  1.,\n         1.,  1.,  1.,  1.,  1.,  1.,  1.,  1.,  2.,  2.,  2.,  2.,  2.,\n         2.,  2.,  2.,  2.,  2.,  2.,  2.,  2.,  2.,  2.,  2.,  2.,  2.,\n         2.],\n       [ 1.,  1.,  1.,  1.,  1.,  1.,  1.,  1.,  1.,  1.,  1.,  1.,  1.,\n         1.,  1.,  1.,  1.,  1.,  1.,  1.,  1.,  2.,  2.,  2.,  2.,  2.,\n         2.,  2.,  2.,  2.,  2.,  2.,  2.,  2.,  2.,  2.,  2.,  2.,  2.,\n         2.],\n       [ 1.,  1.,  1.,  1.,  1.,  1.,  1.,  1.,  1.,  1.,  1.,  1.,  1.,\n         1.,  1.,  1.,  1.,  1.,  1.,  1.,  1.,  2.,  2.,  2.,  2.,  2.,\n         2.,  2.,  2.,  2.,  2.,  2.,  2.,  2.,  2.,  2.,  2.,  2.,  2.,\n         2.],\n       [ 1.,  1.,  1.,  1.,  1.,  1.,  1.,  1.,  1.,  1.,  1.,  1.,  1.,\n         1.,  1.,  1.,  1.,  1.,  1.,  1.,  1.,  2.,  2.,  2.,  2.,  2.,\n         2.,  2.,  2.,  2.,  2.,  2.,  2.,  2.,  2.,  2.,  2.,  2.,  2.,\n         2.],\n       [ 1.,  1.,  1.,  1.,  1.,  1.,  1.,  1.,  1.,  1.,  1.,  1.,  1.,\n         1.,  1.,  1.,  1.,  1.,  1.,  1.,  1.,  2.,  2.,  2.,  2.,  2.,\n         2.,  2.,  2.,  2.,  2.,  2.,  2.,  2.,  2.,  2.,  2.,  2.,  2.,\n         3.],\n       [ 1.,  1.,  1.,  1.,  1.,  1.,  1.,  1.,  1.,  1.,  1.,  1.,  1.,\n         1.,  1.,  1.,  1.,  1.,  1.,  1.,  2.,  2.,  2.,  2.,  2.,  2.,\n         2.,  2.,  2.,  2.,  2.,  2.,  2.,  2.,  2.,  2.,  2.,  2.,  2.,\n         3.],\n       [ 1.,  1.,  1.,  1.,  1.,  1.,  1.,  1.,  1.,  1.,  1.,  1.,  1.,\n         1.,  1.,  1.,  1.,  1.,  1.,  1.,  2.,  2.,  2.,  2.,  2.,  2.,\n         2.,  2.,  2.,  2.,  2.,  2.,  2.,  2.,  2.,  2.,  2.,  2.,  2.,\n         3.],\n       [ 1.,  1.,  1.,  1.,  1.,  1.,  1.,  1.,  1.,  1.,  1.,  1.,  1.,\n         1.,  1.,  1.,  1.,  1.,  1.,  1.,  2.,  2.,  2.,  2.,  2.,  2.,\n         2.,  2.,  2.,  2.,  2.,  2.,  2.,  2.,  2.,  2.,  2.,  2.,  2.,\n         3.],\n       [ 1.,  1.,  1.,  1.,  1.,  1.,  1.,  1.,  1.,  1.,  1.,  1.,  1.,\n         1.,  1.,  1.,  1.,  1.,  1.,  1.,  2.,  2.,  2.,  2.,  2.,  2.,\n         2.,  2.,  2.,  2.,  2.,  2.,  2.,  2.,  2.,  2.,  2.,  2.,  2.,\n         3.],\n       [ 1.,  1.,  1.,  1.,  1.,  1.,  1.,  1.,  1.,  1.,  1.,  1.,  1.,\n         1.,  1.,  1.,  1.,  1.,  1.,  1.,  2.,  2.,  2.,  2.,  2.,  2.,\n         2.,  2.,  2.,  2.,  2.,  2.,  2.,  2.,  2.,  2.,  2.,  2.,  2.,\n         3.]])"
                    }, 
                    "output_type": "execute_result"
                }
            ], 
            "source": "waffle_chart"
        }, 
        {
            "source": "Now the above matrix consists of 3 categories as per the mushroom category in the dataset.", 
            "cell_type": "markdown", 
            "metadata": {}
        }, 
        {
            "source": "Lets visualise the waffle chart", 
            "cell_type": "markdown", 
            "metadata": {}
        }, 
        {
            "execution_count": 17, 
            "cell_type": "code", 
            "metadata": {}, 
            "outputs": [
                {
                    "output_type": "display_data", 
                    "data": {
                        "text/plain": "<matplotlib.figure.Figure at 0x7facbd787550>"
                    }, 
                    "metadata": {}
                }
            ], 
            "source": "# Instance a new figure object\nfig=plt.figure()"
        }, 
        {
            "execution_count": 18, 
            "cell_type": "code", 
            "metadata": {}, 
            "outputs": [
                {
                    "execution_count": 18, 
                    "metadata": {}, 
                    "data": {
                        "text/plain": "<matplotlib.legend.Legend at 0x7fac92884da0>"
                    }, 
                    "output_type": "execute_result"
                }, 
                {
                    "output_type": "display_data", 
                    "data": {
                        "text/plain": "<matplotlib.figure.Figure at 0x7fac9a39a438>"
                    }, 
                    "metadata": {}
                }, 
                {
                    "output_type": "display_data", 
                    "data": {
                        "image/png": "[encoded data removed]", 
                        "text/plain": "<matplotlib.figure.Figure at 0x7fac9a39ab38>"
                    }, 
                    "metadata": {}
                }
            ], 
            "source": "# instantiate a new figure object\nfig = plt.figure()\n\n# use matshow to display the waffle chart\ncolormap = plt.cm.coolwarm\nplt.matshow(waffle_chart, cmap=colormap)\nplt.colorbar()\n\n# get the axis\nax = plt.gca()\n\n# set minor ticks\nax.set_xticks(np.arange(-.5, (width), 1), minor=True)\nax.set_yticks(np.arange(-.5, (height), 1), minor=True)\n    \n# add gridlines based on minor ticks\nax.grid(which='minor', color='w', linestyle='-', linewidth=2)\n\nplt.xticks([])\nplt.yticks([])\n\n# compute cumulative sum of individual categories to match color schemes between chart and legend\nvalues_cumsum = np.cumsum(df_dsn['Total'])\ntotal_values = values_cumsum[len(values_cumsum) -1]\na=(1,0.52,2.5)\n\n# create legend\nlegend_handles = []\nfor i, category in enumerate(df_dsn.index.values):\n    label_str = category + ' (' + str(df_dsn['Total'][i]) + ')'\n    #color_val = colormap(float(values_cumsum[i])/total_values)\n    color_val = colormap(a[i])\n    \n    legend_handles.append(mpatches.Patch(color=color_val, label=label_str))\n\n# add legend to chart\nplt.legend(handles=legend_handles,\n           loc='lower center', \n           ncol=len(df_dsn.index.values),\n           bbox_to_anchor=(0., -0.2, 0.95, .1)\n          )"
        }, 
        {
            "execution_count": 19, 
            "cell_type": "code", 
            "metadata": {}, 
            "outputs": [], 
            "source": "# The code was removed by Watson Studio for sharing."
        }, 
        {
            "execution_count": 20, 
            "cell_type": "code", 
            "metadata": {}, 
            "outputs": [], 
            "source": "# The code was removed by Watson Studio for sharing."
        }, 
        {
            "execution_count": 21, 
            "cell_type": "code", 
            "metadata": {}, 
            "outputs": [], 
            "source": "# The code was removed by Watson Studio for sharing."
        }, 
        {
            "source": "# Dummy Value Encoding\nSince all attributes are nominal values, i'm getting the dummy values for all the columns and dropping one of the redundant columns.", 
            "cell_type": "markdown", 
            "metadata": {
                "slideshow": {
                    "slide_type": "slide"
                }
            }
        }, 
        {
            "execution_count": 22, 
            "cell_type": "code", 
            "metadata": {
                "slideshow": {
                    "slide_type": "fragment"
                }
            }, 
            "outputs": [
                {
                    "execution_count": 22, 
                    "metadata": {}, 
                    "data": {
                        "text/html": "<div>\n<style scoped>\n    .dataframe tbody tr th:only-of-type {\n        vertical-align: middle;\n    }\n\n    .dataframe tbody tr th {\n        vertical-align: top;\n    }\n\n    .dataframe thead th {\n        text-align: right;\n    }\n</style>\n<table border=\"1\" class=\"dataframe\">\n  <thead>\n    <tr style=\"text-align: right;\">\n      <th></th>\n      <th>x_c</th>\n      <th>x_f</th>\n      <th>x_k</th>\n      <th>x_s</th>\n      <th>x_x</th>\n      <th>s_g</th>\n      <th>s_s</th>\n      <th>s_y</th>\n      <th>n_c</th>\n      <th>n_e</th>\n      <th>...</th>\n      <th>s.3_n</th>\n      <th>s.3_s</th>\n      <th>s.3_v</th>\n      <th>s.3_y</th>\n      <th>u_g</th>\n      <th>u_l</th>\n      <th>u_m</th>\n      <th>u_p</th>\n      <th>u_u</th>\n      <th>u_w</th>\n    </tr>\n  </thead>\n  <tbody>\n    <tr>\n      <th>count</th>\n      <td>8123.000000</td>\n      <td>8123.000000</td>\n      <td>8123.000000</td>\n      <td>8123.000000</td>\n      <td>8123.000000</td>\n      <td>8123.000000</td>\n      <td>8123.000000</td>\n      <td>8123.000000</td>\n      <td>8123.000000</td>\n      <td>8123.000000</td>\n      <td>...</td>\n      <td>8123.000000</td>\n      <td>8123.000000</td>\n      <td>8123.000000</td>\n      <td>8123.000000</td>\n      <td>8123.000000</td>\n      <td>8123.000000</td>\n      <td>8123.000000</td>\n      <td>8123.000000</td>\n      <td>8123.000000</td>\n      <td>8123.000000</td>\n    </tr>\n    <tr>\n      <th>mean</th>\n      <td>0.000492</td>\n      <td>0.388034</td>\n      <td>0.101933</td>\n      <td>0.003939</td>\n      <td>0.449957</td>\n      <td>0.000492</td>\n      <td>0.314539</td>\n      <td>0.399360</td>\n      <td>0.005417</td>\n      <td>0.184661</td>\n      <td>...</td>\n      <td>0.049243</td>\n      <td>0.153515</td>\n      <td>0.497353</td>\n      <td>0.210760</td>\n      <td>0.264434</td>\n      <td>0.102425</td>\n      <td>0.035947</td>\n      <td>0.140835</td>\n      <td>0.045180</td>\n      <td>0.023637</td>\n    </tr>\n    <tr>\n      <th>std</th>\n      <td>0.022187</td>\n      <td>0.487332</td>\n      <td>0.302579</td>\n      <td>0.062645</td>\n      <td>0.497520</td>\n      <td>0.022187</td>\n      <td>0.464361</td>\n      <td>0.489797</td>\n      <td>0.073403</td>\n      <td>0.388046</td>\n      <td>...</td>\n      <td>0.216388</td>\n      <td>0.360505</td>\n      <td>0.500024</td>\n      <td>0.407873</td>\n      <td>0.441059</td>\n      <td>0.303225</td>\n      <td>0.186170</td>\n      <td>0.347872</td>\n      <td>0.207712</td>\n      <td>0.151923</td>\n    </tr>\n    <tr>\n      <th>min</th>\n      <td>0.000000</td>\n      <td>0.000000</td>\n      <td>0.000000</td>\n      <td>0.000000</td>\n      <td>0.000000</td>\n      <td>0.000000</td>\n      <td>0.000000</td>\n      <td>0.000000</td>\n      <td>0.000000</td>\n      <td>0.000000</td>\n      <td>...</td>\n      <td>0.000000</td>\n      <td>0.000000</td>\n      <td>0.000000</td>\n      <td>0.000000</td>\n      <td>0.000000</td>\n      <td>0.000000</td>\n      <td>0.000000</td>\n      <td>0.000000</td>\n      <td>0.000000</td>\n      <td>0.000000</td>\n    </tr>\n    <tr>\n      <th>25%</th>\n      <td>0.000000</td>\n      <td>0.000000</td>\n      <td>0.000000</td>\n      <td>0.000000</td>\n      <td>0.000000</td>\n      <td>0.000000</td>\n      <td>0.000000</td>\n      <td>0.000000</td>\n      <td>0.000000</td>\n      <td>0.000000</td>\n      <td>...</td>\n      <td>0.000000</td>\n      <td>0.000000</td>\n      <td>0.000000</td>\n      <td>0.000000</td>\n      <td>0.000000</td>\n      <td>0.000000</td>\n      <td>0.000000</td>\n      <td>0.000000</td>\n      <td>0.000000</td>\n      <td>0.000000</td>\n    </tr>\n    <tr>\n      <th>50%</th>\n      <td>0.000000</td>\n      <td>0.000000</td>\n      <td>0.000000</td>\n      <td>0.000000</td>\n      <td>0.000000</td>\n      <td>0.000000</td>\n      <td>0.000000</td>\n      <td>0.000000</td>\n      <td>0.000000</td>\n      <td>0.000000</td>\n      <td>...</td>\n      <td>0.000000</td>\n      <td>0.000000</td>\n      <td>0.000000</td>\n      <td>0.000000</td>\n      <td>0.000000</td>\n      <td>0.000000</td>\n      <td>0.000000</td>\n      <td>0.000000</td>\n      <td>0.000000</td>\n      <td>0.000000</td>\n    </tr>\n    <tr>\n      <th>75%</th>\n      <td>0.000000</td>\n      <td>1.000000</td>\n      <td>0.000000</td>\n      <td>0.000000</td>\n      <td>1.000000</td>\n      <td>0.000000</td>\n      <td>1.000000</td>\n      <td>1.000000</td>\n      <td>0.000000</td>\n      <td>0.000000</td>\n      <td>...</td>\n      <td>0.000000</td>\n      <td>0.000000</td>\n      <td>1.000000</td>\n      <td>0.000000</td>\n      <td>1.000000</td>\n      <td>0.000000</td>\n      <td>0.000000</td>\n      <td>0.000000</td>\n      <td>0.000000</td>\n      <td>0.000000</td>\n    </tr>\n    <tr>\n      <th>max</th>\n      <td>1.000000</td>\n      <td>1.000000</td>\n      <td>1.000000</td>\n      <td>1.000000</td>\n      <td>1.000000</td>\n      <td>1.000000</td>\n      <td>1.000000</td>\n      <td>1.000000</td>\n      <td>1.000000</td>\n      <td>1.000000</td>\n      <td>...</td>\n      <td>1.000000</td>\n      <td>1.000000</td>\n      <td>1.000000</td>\n      <td>1.000000</td>\n      <td>1.000000</td>\n      <td>1.000000</td>\n      <td>1.000000</td>\n      <td>1.000000</td>\n      <td>1.000000</td>\n      <td>1.000000</td>\n    </tr>\n  </tbody>\n</table>\n<p>8 rows \u00d7 95 columns</p>\n</div>", 
                        "text/plain": "               x_c          x_f          x_k          x_s          x_x  \\\ncount  8123.000000  8123.000000  8123.000000  8123.000000  8123.000000   \nmean      0.000492     0.388034     0.101933     0.003939     0.449957   \nstd       0.022187     0.487332     0.302579     0.062645     0.497520   \nmin       0.000000     0.000000     0.000000     0.000000     0.000000   \n25%       0.000000     0.000000     0.000000     0.000000     0.000000   \n50%       0.000000     0.000000     0.000000     0.000000     0.000000   \n75%       0.000000     1.000000     0.000000     0.000000     1.000000   \nmax       1.000000     1.000000     1.000000     1.000000     1.000000   \n\n               s_g          s_s          s_y          n_c          n_e  \\\ncount  8123.000000  8123.000000  8123.000000  8123.000000  8123.000000   \nmean      0.000492     0.314539     0.399360     0.005417     0.184661   \nstd       0.022187     0.464361     0.489797     0.073403     0.388046   \nmin       0.000000     0.000000     0.000000     0.000000     0.000000   \n25%       0.000000     0.000000     0.000000     0.000000     0.000000   \n50%       0.000000     0.000000     0.000000     0.000000     0.000000   \n75%       0.000000     1.000000     1.000000     0.000000     0.000000   \nmax       1.000000     1.000000     1.000000     1.000000     1.000000   \n\n          ...             s.3_n        s.3_s        s.3_v        s.3_y  \\\ncount     ...       8123.000000  8123.000000  8123.000000  8123.000000   \nmean      ...          0.049243     0.153515     0.497353     0.210760   \nstd       ...          0.216388     0.360505     0.500024     0.407873   \nmin       ...          0.000000     0.000000     0.000000     0.000000   \n25%       ...          0.000000     0.000000     0.000000     0.000000   \n50%       ...          0.000000     0.000000     0.000000     0.000000   \n75%       ...          0.000000     0.000000     1.000000     0.000000   \nmax       ...          1.000000     1.000000     1.000000     1.000000   \n\n               u_g          u_l          u_m          u_p          u_u  \\\ncount  8123.000000  8123.000000  8123.000000  8123.000000  8123.000000   \nmean      0.264434     0.102425     0.035947     0.140835     0.045180   \nstd       0.441059     0.303225     0.186170     0.347872     0.207712   \nmin       0.000000     0.000000     0.000000     0.000000     0.000000   \n25%       0.000000     0.000000     0.000000     0.000000     0.000000   \n50%       0.000000     0.000000     0.000000     0.000000     0.000000   \n75%       1.000000     0.000000     0.000000     0.000000     0.000000   \nmax       1.000000     1.000000     1.000000     1.000000     1.000000   \n\n               u_w  \ncount  8123.000000  \nmean      0.023637  \nstd       0.151923  \nmin       0.000000  \n25%       0.000000  \n50%       0.000000  \n75%       0.000000  \nmax       1.000000  \n\n[8 rows x 95 columns]"
                    }, 
                    "output_type": "execute_result"
                }
            ], 
            "source": "# Getting dummy values of independent variables\ndf=dataset.drop(['p'], axis=1)\nX_dummy=pd.get_dummies(df, drop_first=True)\ny=dataset['p']\nX_dummy.describe()"
        }, 
        {
            "execution_count": 23, 
            "cell_type": "code", 
            "metadata": {
                "slideshow": {
                    "slide_type": "notes"
                }
            }, 
            "outputs": [], 
            "source": "## Recursive Feature Elimination\nmax_accu=0\nfrom sklearn.linear_model import LogisticRegression\nfrom sklearn.feature_selection import RFE\nestimator = LogisticRegression()\nfor i in range(1, len(X_dummy.iloc[0])+1):\n    selector=RFE(estimator,i, step=1)\n    selector=selector.fit(X_dummy,y)\n    accuracy=selector.score(X_dummy,y)\n    if max_accu < accuracy:\n        sel_features=selector.support_\n        max_accu=accuracy\n        \nX=X_dummy.iloc[:, sel_features]"
        }, 
        {
            "execution_count": 24, 
            "cell_type": "code", 
            "metadata": {
                "slideshow": {
                    "slide_type": "slide"
                }
            }, 
            "outputs": [
                {
                    "execution_count": 24, 
                    "metadata": {}, 
                    "data": {
                        "text/html": "<div>\n<style scoped>\n    .dataframe tbody tr th:only-of-type {\n        vertical-align: middle;\n    }\n\n    .dataframe tbody tr th {\n        vertical-align: top;\n    }\n\n    .dataframe thead th {\n        text-align: right;\n    }\n</style>\n<table border=\"1\" class=\"dataframe\">\n  <thead>\n    <tr style=\"text-align: right;\">\n      <th></th>\n      <th>x_c</th>\n      <th>x_f</th>\n      <th>x_k</th>\n      <th>x_s</th>\n      <th>x_x</th>\n      <th>s_g</th>\n      <th>s_s</th>\n      <th>s_y</th>\n      <th>n_c</th>\n      <th>n_e</th>\n      <th>...</th>\n      <th>s.3_n</th>\n      <th>s.3_s</th>\n      <th>s.3_v</th>\n      <th>s.3_y</th>\n      <th>u_g</th>\n      <th>u_l</th>\n      <th>u_m</th>\n      <th>u_p</th>\n      <th>u_u</th>\n      <th>u_w</th>\n    </tr>\n  </thead>\n  <tbody>\n    <tr>\n      <th>count</th>\n      <td>8123.000000</td>\n      <td>8123.000000</td>\n      <td>8123.000000</td>\n      <td>8123.000000</td>\n      <td>8123.000000</td>\n      <td>8123.000000</td>\n      <td>8123.000000</td>\n      <td>8123.000000</td>\n      <td>8123.000000</td>\n      <td>8123.000000</td>\n      <td>...</td>\n      <td>8123.000000</td>\n      <td>8123.000000</td>\n      <td>8123.000000</td>\n      <td>8123.000000</td>\n      <td>8123.000000</td>\n      <td>8123.000000</td>\n      <td>8123.000000</td>\n      <td>8123.000000</td>\n      <td>8123.000000</td>\n      <td>8123.000000</td>\n    </tr>\n    <tr>\n      <th>mean</th>\n      <td>0.000492</td>\n      <td>0.388034</td>\n      <td>0.101933</td>\n      <td>0.003939</td>\n      <td>0.449957</td>\n      <td>0.000492</td>\n      <td>0.314539</td>\n      <td>0.399360</td>\n      <td>0.005417</td>\n      <td>0.184661</td>\n      <td>...</td>\n      <td>0.049243</td>\n      <td>0.153515</td>\n      <td>0.497353</td>\n      <td>0.210760</td>\n      <td>0.264434</td>\n      <td>0.102425</td>\n      <td>0.035947</td>\n      <td>0.140835</td>\n      <td>0.045180</td>\n      <td>0.023637</td>\n    </tr>\n    <tr>\n      <th>std</th>\n      <td>0.022187</td>\n      <td>0.487332</td>\n      <td>0.302579</td>\n      <td>0.062645</td>\n      <td>0.497520</td>\n      <td>0.022187</td>\n      <td>0.464361</td>\n      <td>0.489797</td>\n      <td>0.073403</td>\n      <td>0.388046</td>\n      <td>...</td>\n      <td>0.216388</td>\n      <td>0.360505</td>\n      <td>0.500024</td>\n      <td>0.407873</td>\n      <td>0.441059</td>\n      <td>0.303225</td>\n      <td>0.186170</td>\n      <td>0.347872</td>\n      <td>0.207712</td>\n      <td>0.151923</td>\n    </tr>\n    <tr>\n      <th>min</th>\n      <td>0.000000</td>\n      <td>0.000000</td>\n      <td>0.000000</td>\n      <td>0.000000</td>\n      <td>0.000000</td>\n      <td>0.000000</td>\n      <td>0.000000</td>\n      <td>0.000000</td>\n      <td>0.000000</td>\n      <td>0.000000</td>\n      <td>...</td>\n      <td>0.000000</td>\n      <td>0.000000</td>\n      <td>0.000000</td>\n      <td>0.000000</td>\n      <td>0.000000</td>\n      <td>0.000000</td>\n      <td>0.000000</td>\n      <td>0.000000</td>\n      <td>0.000000</td>\n      <td>0.000000</td>\n    </tr>\n    <tr>\n      <th>25%</th>\n      <td>0.000000</td>\n      <td>0.000000</td>\n      <td>0.000000</td>\n      <td>0.000000</td>\n      <td>0.000000</td>\n      <td>0.000000</td>\n      <td>0.000000</td>\n      <td>0.000000</td>\n      <td>0.000000</td>\n      <td>0.000000</td>\n      <td>...</td>\n      <td>0.000000</td>\n      <td>0.000000</td>\n      <td>0.000000</td>\n      <td>0.000000</td>\n      <td>0.000000</td>\n      <td>0.000000</td>\n      <td>0.000000</td>\n      <td>0.000000</td>\n      <td>0.000000</td>\n      <td>0.000000</td>\n    </tr>\n    <tr>\n      <th>50%</th>\n      <td>0.000000</td>\n      <td>0.000000</td>\n      <td>0.000000</td>\n      <td>0.000000</td>\n      <td>0.000000</td>\n      <td>0.000000</td>\n      <td>0.000000</td>\n      <td>0.000000</td>\n      <td>0.000000</td>\n      <td>0.000000</td>\n      <td>...</td>\n      <td>0.000000</td>\n      <td>0.000000</td>\n      <td>0.000000</td>\n      <td>0.000000</td>\n      <td>0.000000</td>\n      <td>0.000000</td>\n      <td>0.000000</td>\n      <td>0.000000</td>\n      <td>0.000000</td>\n      <td>0.000000</td>\n    </tr>\n    <tr>\n      <th>75%</th>\n      <td>0.000000</td>\n      <td>1.000000</td>\n      <td>0.000000</td>\n      <td>0.000000</td>\n      <td>1.000000</td>\n      <td>0.000000</td>\n      <td>1.000000</td>\n      <td>1.000000</td>\n      <td>0.000000</td>\n      <td>0.000000</td>\n      <td>...</td>\n      <td>0.000000</td>\n      <td>0.000000</td>\n      <td>1.000000</td>\n      <td>0.000000</td>\n      <td>1.000000</td>\n      <td>0.000000</td>\n      <td>0.000000</td>\n      <td>0.000000</td>\n      <td>0.000000</td>\n      <td>0.000000</td>\n    </tr>\n    <tr>\n      <th>max</th>\n      <td>1.000000</td>\n      <td>1.000000</td>\n      <td>1.000000</td>\n      <td>1.000000</td>\n      <td>1.000000</td>\n      <td>1.000000</td>\n      <td>1.000000</td>\n      <td>1.000000</td>\n      <td>1.000000</td>\n      <td>1.000000</td>\n      <td>...</td>\n      <td>1.000000</td>\n      <td>1.000000</td>\n      <td>1.000000</td>\n      <td>1.000000</td>\n      <td>1.000000</td>\n      <td>1.000000</td>\n      <td>1.000000</td>\n      <td>1.000000</td>\n      <td>1.000000</td>\n      <td>1.000000</td>\n    </tr>\n  </tbody>\n</table>\n<p>8 rows \u00d7 82 columns</p>\n</div>", 
                        "text/plain": "               x_c          x_f          x_k          x_s          x_x  \\\ncount  8123.000000  8123.000000  8123.000000  8123.000000  8123.000000   \nmean      0.000492     0.388034     0.101933     0.003939     0.449957   \nstd       0.022187     0.487332     0.302579     0.062645     0.497520   \nmin       0.000000     0.000000     0.000000     0.000000     0.000000   \n25%       0.000000     0.000000     0.000000     0.000000     0.000000   \n50%       0.000000     0.000000     0.000000     0.000000     0.000000   \n75%       0.000000     1.000000     0.000000     0.000000     1.000000   \nmax       1.000000     1.000000     1.000000     1.000000     1.000000   \n\n               s_g          s_s          s_y          n_c          n_e  \\\ncount  8123.000000  8123.000000  8123.000000  8123.000000  8123.000000   \nmean      0.000492     0.314539     0.399360     0.005417     0.184661   \nstd       0.022187     0.464361     0.489797     0.073403     0.388046   \nmin       0.000000     0.000000     0.000000     0.000000     0.000000   \n25%       0.000000     0.000000     0.000000     0.000000     0.000000   \n50%       0.000000     0.000000     0.000000     0.000000     0.000000   \n75%       0.000000     1.000000     1.000000     0.000000     0.000000   \nmax       1.000000     1.000000     1.000000     1.000000     1.000000   \n\n          ...             s.3_n        s.3_s        s.3_v        s.3_y  \\\ncount     ...       8123.000000  8123.000000  8123.000000  8123.000000   \nmean      ...          0.049243     0.153515     0.497353     0.210760   \nstd       ...          0.216388     0.360505     0.500024     0.407873   \nmin       ...          0.000000     0.000000     0.000000     0.000000   \n25%       ...          0.000000     0.000000     0.000000     0.000000   \n50%       ...          0.000000     0.000000     0.000000     0.000000   \n75%       ...          0.000000     0.000000     1.000000     0.000000   \nmax       ...          1.000000     1.000000     1.000000     1.000000   \n\n               u_g          u_l          u_m          u_p          u_u  \\\ncount  8123.000000  8123.000000  8123.000000  8123.000000  8123.000000   \nmean      0.264434     0.102425     0.035947     0.140835     0.045180   \nstd       0.441059     0.303225     0.186170     0.347872     0.207712   \nmin       0.000000     0.000000     0.000000     0.000000     0.000000   \n25%       0.000000     0.000000     0.000000     0.000000     0.000000   \n50%       0.000000     0.000000     0.000000     0.000000     0.000000   \n75%       1.000000     0.000000     0.000000     0.000000     0.000000   \nmax       1.000000     1.000000     1.000000     1.000000     1.000000   \n\n               u_w  \ncount  8123.000000  \nmean      0.023637  \nstd       0.151923  \nmin       0.000000  \n25%       0.000000  \n50%       0.000000  \n75%       0.000000  \nmax       1.000000  \n\n[8 rows x 82 columns]"
                    }, 
                    "output_type": "execute_result"
                }
            ], 
            "source": "# The dummy encoding had 95 columns, after perfoming RFE there are only 82 columns.\nX.describe()"
        }, 
        {
            "execution_count": 25, 
            "cell_type": "code", 
            "metadata": {}, 
            "outputs": [
                {
                    "output_type": "stream", 
                    "name": "stdout", 
                    "text": "Index(['x_c', 'x_f', 'x_k', 'x_s', 'x_x', 's_g', 's_s', 's_y', 'n_c', 'n_e',\n       'n_g', 'n_n', 'n_p', 'n_r', 'n_u', 'n_w', 'n_y', 't_t', 'p.1_c',\n       'p.1_f', 'p.1_l', 'p.1_m', 'p.1_n', 'p.1_p', 'p.1_s', 'p.1_y', 'f_f',\n       'c_w', 'n.1_n', 'k_e', 'k_g', 'k_h', 'k_k', 'k_n', 'k_o', 'k_p', 'k_r',\n       'k_u', 'k_w', 'k_y', 'e_t', 'e.1_b', 'e.1_c', 'e.1_e', 'e.1_r', 's.1_k',\n       's.1_s', 's.1_y', 's.2_k', 's.2_s', 's.2_y', 'w_c', 'w_e', 'w_g', 'w_n',\n       'w_o', 'w_p', 'w_w', 'w_y', 'w.1_c', 'w.1_e', 'w.1_g', 'w.1_n', 'w.1_o',\n       'w.1_p', 'w.1_w', 'w.1_y', 'w.2_o', 'w.2_w', 'w.2_y', 'o_o', 'o_t',\n       'p.3_f', 'p.3_l', 'p.3_n', 'p.3_p', 'k.1_h', 'k.1_k', 'k.1_n', 'k.1_o',\n       'k.1_r', 'k.1_u', 'k.1_w', 'k.1_y', 's.3_c', 's.3_n', 's.3_s', 's.3_v',\n       's.3_y', 'u_g', 'u_l', 'u_m', 'u_p', 'u_u', 'u_w'],\n      dtype='object')\n(8123, 95)\n"
                }
            ], 
            "source": "#Number of columns after removing few features through RFE\n\nprint(X_dummy.columns)\nprint(X_dummy.shape)"
        }, 
        {
            "execution_count": 26, 
            "cell_type": "code", 
            "metadata": {}, 
            "outputs": [
                {
                    "output_type": "stream", 
                    "name": "stdout", 
                    "text": "Index(['x_c', 'x_f', 'x_k', 'x_s', 'x_x', 's_g', 's_s', 's_y', 'n_c', 'n_e',\n       'n_g', 'n_n', 'n_p', 'n_r', 'n_u', 'n_y', 't_t', 'p.1_c', 'p.1_f',\n       'p.1_l', 'p.1_m', 'p.1_n', 'p.1_p', 'p.1_s', 'p.1_y', 'f_f', 'c_w',\n       'n.1_n', 'k_e', 'k_h', 'k_n', 'k_o', 'k_p', 'k_r', 'k_u', 'k_w', 'e_t',\n       'e.1_b', 'e.1_c', 'e.1_e', 'e.1_r', 's.1_k', 's.1_s', 's.1_y', 's.2_s',\n       's.2_y', 'w_e', 'w_n', 'w_o', 'w_y', 'w.1_c', 'w.1_e', 'w.1_n', 'w.1_o',\n       'w.1_p', 'w.1_y', 'w.2_o', 'w.2_w', 'w.2_y', 'o_o', 'o_t', 'p.3_f',\n       'p.3_l', 'p.3_n', 'p.3_p', 'k.1_h', 'k.1_k', 'k.1_n', 'k.1_r', 'k.1_u',\n       'k.1_w', 's.3_c', 's.3_n', 's.3_s', 's.3_v', 's.3_y', 'u_g', 'u_l',\n       'u_m', 'u_p', 'u_u', 'u_w'],\n      dtype='object')\n(8123, 82)\n"
                }
            ], 
            "source": "#Number of columns after removing few features through RFE\n\nprint(X.columns)\nprint(X.shape)"
        }, 
        {
            "source": "## Recursive Feature Elimination\n\n- Repeatedly creates pattern and choose the best/worst performing feature, untill all the attributes in the dataset are exhausted.\n- Condition provided in RFE is to remove the attributes whose Accuracy score is less than zero.\n- Columns removed are: 3_w, 9_g, 9_k, 9_y, 13_k, 14_c, 14_g, 14_p, 14_w, 15_g, 15_w, 15_y, 20_o, 20_y.\n- Columns\n    3. cap-color:                 brown=n,buff=b,cinnamon=c,gray=g,green=r,\n                                  pink=p,purple=u,red=e,white=w,yellow=y\n     \n    9. gill-color:                black=k,brown=n,buff=b,chocolate=h,gray=g,\n                                  green=r,orange=o,pink=p,purple=u,red=e,\n                                  white=w,yellow=y\n                                  \n    13. stalk-surface-below-ring: fibrous=f,scaly=y,silky=k,smooth=s\n    \n    14. stalk-color-above-ring:   brown=n,buff=b,cinnamon=c,gray=g,orange=o,\n                                  pink=p,red=e,white=w,yellow=y\n                                  \n    15. stalk-color-below-ring:   brown=n,buff=b,cinnamon=c,gray=g,orange=o,\n                                  pink=p,red=e,white=w,yellow=y\n                                  \n    20. spore-print-color:        black=k,brown=n,buff=b,chocolate=h,green=r,\n                                  orange=o,purple=u,white=w,yellow=y\n     ", 
            "cell_type": "markdown", 
            "metadata": {
                "slideshow": {
                    "slide_type": "slide"
                }
            }
        }, 
        {
            "execution_count": 27, 
            "cell_type": "code", 
            "metadata": {
                "slideshow": {
                    "slide_type": "slide"
                }
            }, 
            "outputs": [
                {
                    "output_type": "stream", 
                    "name": "stdout", 
                    "text": "y_train \n e    2086\np    1900\no      75\nName: p, dtype: int64\ny_test \n e    2072\np    1945\no      45\nName: p, dtype: int64\n"
                }
            ], 
            "source": "# Splitting the data for training and testing phases.\n# Since my dataset is very huge. I splitted the 50% of data for training and 50% for testing.\n\nfrom sklearn.model_selection import train_test_split\nX_train,X_test,y_train,y_test=train_test_split(X,y,test_size=0.5, random_state=0)\nprint(\"y_train \\n\", y_train.value_counts())\nprint(\"y_test \\n\", y_test.value_counts())"
        }, 
        {
            "execution_count": 28, 
            "cell_type": "code", 
            "metadata": {
                "slideshow": {
                    "slide_type": "slide"
                }
            }, 
            "outputs": [
                {
                    "output_type": "stream", 
                    "name": "stdout", 
                    "text": "Classification Score is  0.98842934515\n"
                }
            ], 
            "source": "#Importing Logistic Regression model\nfrom sklearn.linear_model import LogisticRegression\nClassification = LogisticRegression()\n\n#Training my model\nClassification.fit(X_train,y_train)\n\n#Predicting y-values\ny_pred=Classification.predict(X_test)\n\n#Classification Score\nprint(\"Classification Score is \", Classification.score(X_test,y_test))\n\n"
        }, 
        {
            "execution_count": 29, 
            "cell_type": "code", 
            "metadata": {
                "slideshow": {
                    "slide_type": "slide"
                }
            }, 
            "outputs": [
                {
                    "output_type": "stream", 
                    "name": "stdout", 
                    "text": "Confusion Matrix\n [[2072    0    0]\n [  17    0   28]\n [   2    0 1943]]\nAccuracy Score:  0.98842934515\nRecall Score:  0.666323907455\nPrecision Score:  0.658902483912\n"
                }, 
                {
                    "output_type": "stream", 
                    "name": "stderr", 
                    "text": "/opt/conda/envs/DSX-Python35/lib/python3.5/site-packages/sklearn/metrics/classification.py:1135: UndefinedMetricWarning: Precision is ill-defined and being set to 0.0 in labels with no predicted samples.\n  'precision', 'predicted', average, warn_for)\n"
                }
            ], 
            "source": "from sklearn.metrics import confusion_matrix, recall_score, accuracy_score, precision_score\nprint(\"Confusion Matrix\\n\", confusion_matrix(y_test,y_pred))\nprint(\"Accuracy Score: \", accuracy_score(y_test,y_pred))\nprint(\"Recall Score: \",recall_score(y_test,y_pred, average='macro'))\nprint(\"Precision Score: \",precision_score(y_test,y_pred, average='macro'))"
        }, 
        {
            "source": "## K-Fold Cross-Validation", 
            "cell_type": "markdown", 
            "metadata": {
                "slideshow": {
                    "slide_type": "slide"
                }
            }
        }, 
        {
            "execution_count": 30, 
            "cell_type": "code", 
            "metadata": {
                "slideshow": {
                    "slide_type": "fragment"
                }
            }, 
            "outputs": [
                {
                    "output_type": "stream", 
                    "name": "stdout", 
                    "text": "KFold(n_splits=5, random_state=None, shuffle=False)\nTRAIN: [1625 1626 1627 ..., 8120 8121 8122] TEST: [   0    1    2 ..., 1622 1623 1624]\nTRAIN: [   0    1    2 ..., 8120 8121 8122] TEST: [1625 1626 1627 ..., 3247 3248 3249]\nTRAIN: [   0    1    2 ..., 8120 8121 8122] TEST: [3250 3251 3252 ..., 4872 4873 4874]\nTRAIN: [   0    1    2 ..., 8120 8121 8122] TEST: [4875 4876 4877 ..., 6496 6497 6498]\nTRAIN: [   0    1    2 ..., 6496 6497 6498] TEST: [6499 6500 6501 ..., 8120 8121 8122]\n"
                }
            ], 
            "source": "#Splitting my X and y into k-folds\nfrom sklearn.model_selection import KFold\nkf=KFold(n_splits=5)\nkf.get_n_splits(X)\nkf.get_n_splits(y)\nprint(kf)\n\nfor train_index, test_index in kf.split(X):\n    print(\"TRAIN:\", train_index, \"TEST:\", test_index)\n    X_train, X_test = X.iloc[train_index], X.iloc[test_index]\n    y_train, y_test = y[train_index], y[test_index]\n"
        }, 
        {
            "execution_count": 31, 
            "cell_type": "code", 
            "metadata": {
                "slideshow": {
                    "slide_type": "notes"
                }
            }, 
            "outputs": [], 
            "source": "#Finding the accuracy score for each fold and finding their mean to get the overall accuracy score\nfrom sklearn.model_selection import cross_val_score\nregr=LogisticRegression()\nshuffle=KFold(n_splits=5, shuffle=True, random_state=0)\nAccuracy_scores=cross_val_score(regr, X,y, cv=shuffle)"
        }, 
        {
            "execution_count": 32, 
            "cell_type": "code", 
            "metadata": {
                "slideshow": {
                    "slide_type": "subslide"
                }
            }, 
            "outputs": [
                {
                    "output_type": "stream", 
                    "name": "stdout", 
                    "text": "Accuracy Scores across the k-fold:  [ 0.98584615  0.99138462  0.98523077  0.97598522  0.98522167]\nMean Accuracy Score: 0.984733687003\n"
                }
            ], 
            "source": "print (\"Accuracy Scores across the k-fold: \", Accuracy_scores)\nprint (\"Mean Accuracy Score:\", Accuracy_scores.mean())"
        }, 
        {
            "source": "## Conclusion:\n- Each species is identified as definitely edible, definitely poisonous, or of unknown and not recommended.  \n  This latter class was combined with the poisonous and edible based on the training model. But this is totally risky and \n  because of the grouping the Recall and precision scores were very low.\n  \n- There is no simple rule for determining the edibility of a mushroom; its a combination of several factors that determines the   edibility\n", 
            "cell_type": "markdown", 
            "metadata": {
                "slideshow": {
                    "slide_type": "slide"
                }
            }
        }
    ], 
    "metadata": {
        "kernelspec": {
            "display_name": "Python 3.5", 
            "name": "python3", 
            "language": "python"
        }, 
        "language_info": {
            "mimetype": "text/x-python", 
            "nbconvert_exporter": "python", 
            "version": "3.5.5", 
            "name": "python", 
            "file_extension": ".py", 
            "pygments_lexer": "ipython3", 
            "codemirror_mode": {
                "version": 3, 
                "name": "ipython"
            }
        }
    }, 
    "nbformat": 4
}